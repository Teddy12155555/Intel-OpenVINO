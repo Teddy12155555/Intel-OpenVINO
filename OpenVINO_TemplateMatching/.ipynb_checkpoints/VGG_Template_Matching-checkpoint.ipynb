{
 "cells": [
  {
   "cell_type": "code",
   "execution_count": 8,
   "id": "588fbc6e",
   "metadata": {},
   "outputs": [],
   "source": [
    "import os\n",
    "import sys\n",
    "import argparse\n",
    "import copy\n",
    "import pickle\n",
    "\n",
    "import cv2\n",
    "import xml.etree.ElementTree as et\n",
    "\n",
    "import numpy as np\n",
    "\n",
    "from openvino.inference_engine import IECore"
   ]
  },
  {
   "cell_type": "code",
   "execution_count": 2,
   "id": "55afa7a2",
   "metadata": {},
   "outputs": [],
   "source": [
    "MODEL_PATH = 'model/'"
   ]
  },
  {
   "cell_type": "code",
   "execution_count": 21,
   "id": "070233ca",
   "metadata": {},
   "outputs": [],
   "source": [
    "def softmax(x):\n",
    "    \"\"\"Compute softmax values for each sets of scores in x.\"\"\"\n",
    "    return np.exp(x) / np.sum(np.exp(x), axis=0)"
   ]
  },
  {
   "cell_type": "markdown",
   "id": "73b4f0c7",
   "metadata": {},
   "source": [
    "# Load classes"
   ]
  },
  {
   "cell_type": "code",
   "execution_count": 40,
   "id": "fe6a7488",
   "metadata": {},
   "outputs": [],
   "source": [
    "with open(MODEL_PATH + 'imagenet_classes.txt', 'r') as f:\n",
    "    classes = f.read().splitlines()"
   ]
  },
  {
   "cell_type": "markdown",
   "id": "4b2e1434",
   "metadata": {},
   "source": [
    "# Inferencing with OpenVINO"
   ]
  },
  {
   "cell_type": "code",
   "execution_count": 3,
   "id": "3e37307c",
   "metadata": {},
   "outputs": [
    {
     "name": "stderr",
     "output_type": "stream",
     "text": [
      "/tmp/ipykernel_1337347/3200321948.py:4: DeprecationWarning: 'inputs' property of IENetwork class is deprecated. To access DataPtrs user need to use 'input_data' property of InputInfoPtr objects which can be accessed by 'input_info' property.\n",
      "  input_blob = next(iter(net.inputs))\n"
     ]
    }
   ],
   "source": [
    "threshold = 0.4\n",
    "ie = IECore()\n",
    "net = ie.read_network(model=MODEL_PATH + 'vgg16.xml') # Object detection model\n",
    "input_blob = next(iter(net.inputs))\n",
    "out_blob = next(iter(net.outputs))\n",
    "batch,channel,height,width  = net.inputs[input_blob].shape"
   ]
  },
  {
   "cell_type": "code",
   "execution_count": 4,
   "id": "80c78bb8",
   "metadata": {},
   "outputs": [
    {
     "name": "stdout",
     "output_type": "stream",
     "text": [
      "1 3 224 224\n"
     ]
    }
   ],
   "source": [
    "print(batch,channel,height,width)"
   ]
  },
  {
   "cell_type": "code",
   "execution_count": 43,
   "id": "2c80e884",
   "metadata": {},
   "outputs": [],
   "source": [
    "image = cv2.imread('dog.jpg')\n",
    "cv2.imshow(\"input\", image)\n",
    "image = cv2.resize(image, (width, height))\n",
    "image = image.transpose((2, 0, 1))  # Change data layout from HWC to CHW\n",
    "exec_net = ie.load_network(network=net, device_name='CPU')\n",
    "res = exec_net.infer(inputs={input_blob: image})"
   ]
  },
  {
   "cell_type": "code",
   "execution_count": 44,
   "id": "fe6632e1",
   "metadata": {},
   "outputs": [],
   "source": [
    "class_prob = res[out_blob][0]"
   ]
  },
  {
   "cell_type": "code",
   "execution_count": 45,
   "id": "c4d23068",
   "metadata": {},
   "outputs": [
    {
     "name": "stdout",
     "output_type": "stream",
     "text": [
      "Labrador retriever\n"
     ]
    }
   ],
   "source": [
    "idx = np.argmax(class_prob)\n",
    "print(classes[idx])"
   ]
  },
  {
   "cell_type": "markdown",
   "id": "1d230544",
   "metadata": {},
   "source": [
    "# Inference per layer"
   ]
  },
  {
   "cell_type": "code",
   "execution_count": 47,
   "id": "c8360d1f",
   "metadata": {},
   "outputs": [],
   "source": [
    "def splitFileName(file):\n",
    "    dirname, filename = os.path.split(file)\n",
    "    basename, extname = os.path.splitext(filename)\n",
    "    return dirname, basename, extname\n",
    "\n",
    "def readXML(model):\n",
    "    dname, bname, ename = splitFileName(model)\n",
    "    tree = et.parse(os.path.join(dname, bname+'.xml'))\n",
    "    return tree\n",
    "\n",
    "def readBIN(model):\n",
    "    dname, bname, ename = splitFileName(model)\n",
    "    with open(os.path.join(dname, bname+'.bin'), 'rb') as f:\n",
    "        weight = f.read()\n",
    "    return weight\n",
    "\n",
    "\n",
    "def findNodeFromXML(xmltree, nodeid):\n",
    "    root = xmltree.getroot()\n",
    "    layers = root.find('layers')\n",
    "    for layer in layers.findall('layer'):\n",
    "        if int(layer.attrib['id']) == nodeid:\n",
    "            return layer\n",
    "    return None\n",
    "\n",
    "\n",
    "def modifyXMLForFeatureVectorProbing(xmltree, nodeid):\n",
    "    xmlcopy = copy.deepcopy(xmltree)\n",
    "    layer = findNodeFromXML(xmlcopy, nodeid)\n",
    "\n",
    "    # obtain output port information of the target node (port # and dims)\n",
    "    outport      = layer.find('output').find('port')\n",
    "    outport_id   = int(outport.attrib['id'])\n",
    "    outport_prec = outport.attrib['precision']\n",
    "    outport_dims = outport.findall('dim')\n",
    "    outport_dims_string = \"\"\n",
    "    for dim in outport_dims:\n",
    "        outport_dims_string += et.tostring(dim).decode('utf-8')\n",
    "\n",
    "    # generate XML strings\n",
    "    dummyLayer = \"\"\"\n",
    "        <layer id=\"9999\" name=\"featuremap_checker_dummy_node\" type=\"Result\" version=\"opset1\">\n",
    "            <input>\n",
    "                <port id=\"0\">\n",
    "                {}\n",
    "                </port>\n",
    "            </input>\n",
    "        </layer>\n",
    "    \"\"\".format(outport_dims_string)\n",
    "    dummyEdge = '        <edge from-layer=\"{}\" from-port=\"{}\" to-layer=\"9999\" to-port=\"0\"/>'.format(nodeid, outport_id)\n",
    "\n",
    "    # modify XML to make a dummy branch path for feature map extraction\n",
    "    xmlcopy.find('layers').append(et.fromstring(dummyLayer))\n",
    "    xmlcopy.find('edges').append(et.fromstring(dummyEdge))\n",
    "\n",
    "    # return the modified XML and the name of the target node (specified by 'nodeid')\n",
    "    return xmlcopy, layer.attrib['name']"
   ]
  },
  {
   "cell_type": "code",
   "execution_count": 54,
   "id": "2f238add",
   "metadata": {},
   "outputs": [],
   "source": [
    "originalXML = readXML(MODEL_PATH + 'vgg16.xml')\n",
    "weight = readBIN(MODEL_PATH + 'vgg16.xml')\n",
    "feature_vectors = {}\n",
    "ie = IECore()\n",
    "root = originalXML.getroot()\n",
    "layers = root.find('layers')"
   ]
  },
  {
   "cell_type": "code",
   "execution_count": 66,
   "id": "20a7a34d",
   "metadata": {},
   "outputs": [],
   "source": [
    "f = []\n",
    "stride = []"
   ]
  },
  {
   "cell_type": "code",
   "execution_count": 67,
   "id": "9dcbb636",
   "metadata": {},
   "outputs": [
    {
     "name": "stdout",
     "output_type": "stream",
     "text": [
      "node# : nodeName\n",
      "0 : data\n",
      "2 : conv1_1/WithoutBiases\n",
      "4 : conv1_1\n",
      "5 : relu1_1\n",
      "7 : conv1_2/WithoutBiases\n",
      "9 : conv1_2\n",
      "10 : relu1_2\n",
      "11 : pool1\n",
      "13 : conv2_1/WithoutBiases\n",
      "15 : conv2_1\n",
      "16 : relu2_1\n",
      "18 : conv2_2/WithoutBiases\n",
      "20 : conv2_2\n",
      "21 : relu2_2\n",
      "22 : pool2\n",
      "24 : conv3_1/WithoutBiases\n",
      "26 : conv3_1\n",
      "27 : relu3_1\n",
      "29 : conv3_2/WithoutBiases\n",
      "31 : conv3_2\n",
      "32 : relu3_2\n",
      "34 : conv3_3/WithoutBiases\n",
      "36 : conv3_3\n",
      "37 : relu3_3\n",
      "38 : pool3\n",
      "40 : conv4_1/WithoutBiases\n",
      "42 : conv4_1\n",
      "43 : relu4_1\n",
      "45 : conv4_2/WithoutBiases\n",
      "47 : conv4_2\n",
      "48 : relu4_2\n",
      "50 : conv4_3/WithoutBiases\n",
      "52 : conv4_3\n",
      "53 : relu4_3\n",
      "54 : pool4\n",
      "56 : conv5_1/WithoutBiases\n",
      "58 : conv5_1\n",
      "59 : relu5_1\n",
      "61 : conv5_2/WithoutBiases\n",
      "63 : conv5_2\n",
      "64 : relu5_2\n",
      "66 : conv5_3/WithoutBiases\n",
      "68 : conv5_3\n",
      "69 : relu5_3\n",
      "70 : pool5\n",
      "72 : fc6/flatten_fc_input\n",
      "74 : fc6/WithoutBiases\n",
      "76 : fc6\n",
      "77 : relu6\n",
      "79 : fc7/flatten_fc_input\n",
      "81 : fc7/WithoutBiases\n",
      "83 : fc7\n",
      "84 : relu7\n",
      "86 : fc8/flatten_fc_input\n",
      "88 : fc8/WithoutBiases\n",
      "90 : fc8\n",
      "91 : prob\n"
     ]
    }
   ],
   "source": [
    "print('node# : nodeName')\n",
    "feature_vectors = {}\n",
    "ie = IECore()\n",
    "root = originalXML.getroot()\n",
    "layers = root.find('layers')\n",
    "for layer in layers.findall('layer'):\n",
    "    nodeid = int(layer.attrib['id'])\n",
    "    nodetype = layer.attrib['type']\n",
    "    if nodetype in ['Const']: # , 'ShapeOf', 'Convert', 'StridedSlice', 'PriorBox']:\n",
    "        continue\n",
    "    if not layer.find('output') is None:\n",
    "        nodeName = layer.attrib['name']\n",
    "        outputport = layer.find('output').find('port')\n",
    "        proc = outputport.attrib['precision']\n",
    "        dims = []\n",
    "        for dim in outputport.findall('dim'):                       # extract shape information\n",
    "            dims.append(dim.text)\n",
    "\n",
    "        modifiedXML, targetNodeName = modifyXMLForFeatureVectorProbing(originalXML, nodeid)\n",
    "        XMLstr = et.tostring(modifiedXML.getroot())\n",
    "        print('{} : {} :{}'.format(nodeid, targetNodeName, [proc, dims]))"
   ]
  },
  {
   "cell_type": "code",
   "execution_count": 53,
   "id": "1c673b89",
   "metadata": {},
   "outputs": [
    {
     "name": "stdout",
     "output_type": "stream",
     "text": [
      "<xml.etree.ElementTree.ElementTree object at 0x7f4c1a8118b0>\n"
     ]
    },
    {
     "data": {
      "text/plain": [
       "\"\\nprint('node# : nodeName')\\nfeature_vectors = {}\\nie = IECore()\\nroot = originalXML.getroot()\\nlayers = root.find('layers')\\n\\nprint(root)\\n\\nfor layer in layers.findall('layer'):\\n    nodeid = int(layer.attrib['id'])\\n    nodetype = layer.attrib['type']\\n    if nodetype in ['Const']: # , 'ShapeOf', 'Convert', 'StridedSlice', 'PriorBox']:\\n        continue\\n    if not layer.find('output') is None:\\n        nodeName = layer.attrib['name']\\n        outputport = layer.find('output').find('port')\\n        proc = outputport.attrib['precision']\\n        dims = []\\n        for dim in outputport.findall('dim'):                       # extract shape information\\n            dims.append(dim.text)\\n\\n        modifiedXML, targetNodeName = modifyXMLForFeatureVectorProbing(originalXML, nodeid)\\n        XMLstr = et.tostring(modifiedXML.getroot())\\n        print('{} : {}'.format(nodeid, targetNodeName))\\n\\n        net = ie.read_network(XMLstr, weight, init_from_buffer=True)\\n        try:\\n            exenet = ie.load_network(net, 'cpu')\\n        except RuntimeError:\\n            #et.dump(modifiedXML)\\n            print('*** RuntimeError: load_network() -- Skip node '{}' - '{}''.format(targetNodeName, nodetype))\\n            continue\\n\\n        #################################################################################\\n        inputs = image\\n        res = exenet.infer(inputs)[nodeName]\\n\\n        feature_vectors[nodeName] = [proc, dims, res]\\n        #print(nodeName, res)\\n        del exenet\\n        del net\\n\\ndirname, filename = os.path.split(args.model)\\nbasename, extname = os.path.splitext(filename)\\nfname = basename+'_featmap.pickle'\\nwith open(fname, 'wb') as f:\\n    pickle.dump(feature_vectors, f)\\n\""
      ]
     },
     "execution_count": 53,
     "metadata": {},
     "output_type": "execute_result"
    }
   ],
   "source": [
    "\n",
    "print(originalXML)\n",
    "\n",
    "\"\"\"\n",
    "print('node# : nodeName')\n",
    "\n",
    "\n",
    "print(root)\n",
    "\n",
    "for layer in layers.findall('layer'):\n",
    "    nodeid = int(layer.attrib['id'])\n",
    "    nodetype = layer.attrib['type']\n",
    "    if nodetype in ['Const']: # , 'ShapeOf', 'Convert', 'StridedSlice', 'PriorBox']:\n",
    "        continue\n",
    "    if not layer.find('output') is None:\n",
    "        nodeName = layer.attrib['name']\n",
    "        outputport = layer.find('output').find('port')\n",
    "        proc = outputport.attrib['precision']\n",
    "        dims = []\n",
    "        for dim in outputport.findall('dim'):                       # extract shape information\n",
    "            dims.append(dim.text)\n",
    "\n",
    "        modifiedXML, targetNodeName = modifyXMLForFeatureVectorProbing(originalXML, nodeid)\n",
    "        XMLstr = et.tostring(modifiedXML.getroot())\n",
    "        print('{} : {}'.format(nodeid, targetNodeName))\n",
    "\n",
    "        net = ie.read_network(XMLstr, weight, init_from_buffer=True)\n",
    "        try:\n",
    "            exenet = ie.load_network(net, 'cpu')\n",
    "        except RuntimeError:\n",
    "            #et.dump(modifiedXML)\n",
    "            print('*** RuntimeError: load_network() -- Skip node \\'{}\\' - \\'{}\\''.format(targetNodeName, nodetype))\n",
    "            continue\n",
    "\n",
    "        #################################################################################\n",
    "        inputs = image\n",
    "        res = exenet.infer(inputs)[nodeName]\n",
    "\n",
    "        feature_vectors[nodeName] = [proc, dims, res]\n",
    "        #print(nodeName, res)\n",
    "        del exenet\n",
    "        del net\n",
    "\n",
    "dirname, filename = os.path.split(args.model)\n",
    "basename, extname = os.path.splitext(filename)\n",
    "fname = basename+'_featmap.pickle'\n",
    "with open(fname, 'wb') as f:\n",
    "    pickle.dump(feature_vectors, f)\n",
    "\"\"\""
   ]
  },
  {
   "cell_type": "code",
   "execution_count": null,
   "id": "43ec2e4c",
   "metadata": {},
   "outputs": [],
   "source": []
  }
 ],
 "metadata": {
  "kernelspec": {
   "display_name": "Python 3 (ipykernel)",
   "language": "python",
   "name": "python3"
  },
  "language_info": {
   "codemirror_mode": {
    "name": "ipython",
    "version": 3
   },
   "file_extension": ".py",
   "mimetype": "text/x-python",
   "name": "python",
   "nbconvert_exporter": "python",
   "pygments_lexer": "ipython3",
   "version": "3.8.10"
  }
 },
 "nbformat": 4,
 "nbformat_minor": 5
}
