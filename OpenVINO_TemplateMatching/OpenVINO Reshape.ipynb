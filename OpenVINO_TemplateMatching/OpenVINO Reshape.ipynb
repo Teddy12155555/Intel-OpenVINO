{
 "cells": [
  {
   "cell_type": "code",
   "execution_count": 1,
   "id": "4b42d719",
   "metadata": {},
   "outputs": [],
   "source": [
    "import os\n",
    "import sys\n",
    "import argparse\n",
    "import copy\n",
    "import pickle\n",
    "\n",
    "import cv2\n",
    "import xml.etree.ElementTree as et\n",
    "\n",
    "import numpy as np\n",
    "\n",
    "from openvino.inference_engine import IECore"
   ]
  },
  {
   "cell_type": "code",
   "execution_count": 2,
   "id": "c60ce353",
   "metadata": {},
   "outputs": [],
   "source": [
    "MODEL_PATH = 'model/'"
   ]
  },
  {
   "cell_type": "markdown",
   "id": "cdee9b04",
   "metadata": {},
   "source": [
    "# Default shape"
   ]
  },
  {
   "cell_type": "code",
   "execution_count": 3,
   "id": "efa264e6",
   "metadata": {},
   "outputs": [],
   "source": [
    "image = cv2.imread('dog.jpg')\n",
    "img_height, img_width, img_channels = image.shape\n",
    "image = cv2.resize(image, (224, 224))\n",
    "image = image.transpose((2, 0, 1))"
   ]
  },
  {
   "cell_type": "code",
   "execution_count": 6,
   "id": "035c4193",
   "metadata": {},
   "outputs": [
    {
     "name": "stderr",
     "output_type": "stream",
     "text": [
      "/tmp/ipykernel_113051/1676232401.py:3: DeprecationWarning: 'inputs' property of IENetwork class is deprecated. To access DataPtrs user need to use 'input_data' property of InputInfoPtr objects which can be accessed by 'input_info' property.\n",
      "  input_blob = next(iter(net.inputs))\n"
     ]
    },
    {
     "ename": "RuntimeError",
     "evalue": "Check 'input_product.get_length() % output_product.get_length() == 0' failed at core/src/op/reshape.cpp:331:\nWhile validating node 'v1::Reshape fc6/flatten_fc_input (pool5[0]:f32{1,512,7,16}, fc6/flatten_fc_input/value[0]:i64{2}) -> (f32{?,?})' with friendly_name 'fc6/flatten_fc_input':\nNon-'-1' output dimensions do not evenly divide the input dimensions\n",
     "output_type": "error",
     "traceback": [
      "\u001b[0;31m---------------------------------------------------------------------------\u001b[0m",
      "\u001b[0;31mRuntimeError\u001b[0m                              Traceback (most recent call last)",
      "\u001b[0;32m/tmp/ipykernel_113051/1676232401.py\u001b[0m in \u001b[0;36m<module>\u001b[0;34m\u001b[0m\n\u001b[1;32m      4\u001b[0m \u001b[0mout_blob\u001b[0m \u001b[0;34m=\u001b[0m \u001b[0mnext\u001b[0m\u001b[0;34m(\u001b[0m\u001b[0miter\u001b[0m\u001b[0;34m(\u001b[0m\u001b[0mnet\u001b[0m\u001b[0;34m.\u001b[0m\u001b[0moutputs\u001b[0m\u001b[0;34m)\u001b[0m\u001b[0;34m)\u001b[0m\u001b[0;34m\u001b[0m\u001b[0;34m\u001b[0m\u001b[0m\n\u001b[1;32m      5\u001b[0m \u001b[0mn\u001b[0m\u001b[0;34m,\u001b[0m \u001b[0mc\u001b[0m\u001b[0;34m,\u001b[0m \u001b[0mh\u001b[0m\u001b[0;34m,\u001b[0m \u001b[0mw\u001b[0m \u001b[0;34m=\u001b[0m \u001b[0mnet\u001b[0m\u001b[0;34m.\u001b[0m\u001b[0minput_info\u001b[0m\u001b[0;34m[\u001b[0m\u001b[0minput_blob\u001b[0m\u001b[0;34m]\u001b[0m\u001b[0;34m.\u001b[0m\u001b[0minput_data\u001b[0m\u001b[0;34m.\u001b[0m\u001b[0mshape\u001b[0m\u001b[0;34m\u001b[0m\u001b[0;34m\u001b[0m\u001b[0m\n\u001b[0;32m----> 6\u001b[0;31m \u001b[0mnet\u001b[0m\u001b[0;34m.\u001b[0m\u001b[0mreshape\u001b[0m\u001b[0;34m(\u001b[0m\u001b[0;34m{\u001b[0m\u001b[0minput_blob\u001b[0m\u001b[0;34m:\u001b[0m \u001b[0;34m(\u001b[0m\u001b[0mn\u001b[0m\u001b[0;34m,\u001b[0m \u001b[0mc\u001b[0m\u001b[0;34m,\u001b[0m \u001b[0;36m200\u001b[0m\u001b[0;34m,\u001b[0m \u001b[0;36m512\u001b[0m\u001b[0;34m)\u001b[0m\u001b[0;34m}\u001b[0m\u001b[0;34m)\u001b[0m\u001b[0;34m\u001b[0m\u001b[0;34m\u001b[0m\u001b[0m\n\u001b[0m",
      "\u001b[0;32mie_api.pyx\u001b[0m in \u001b[0;36mopenvino.inference_engine.ie_api.IENetwork.reshape\u001b[0;34m()\u001b[0m\n",
      "\u001b[0;31mRuntimeError\u001b[0m: Check 'input_product.get_length() % output_product.get_length() == 0' failed at core/src/op/reshape.cpp:331:\nWhile validating node 'v1::Reshape fc6/flatten_fc_input (pool5[0]:f32{1,512,7,16}, fc6/flatten_fc_input/value[0]:i64{2}) -> (f32{?,?})' with friendly_name 'fc6/flatten_fc_input':\nNon-'-1' output dimensions do not evenly divide the input dimensions\n"
     ]
    }
   ],
   "source": [
    "ie = IECore()\n",
    "net = ie.read_network(model=MODEL_PATH + 'vgg16.xml') # Object detection model\n",
    "input_blob = next(iter(net.inputs))\n",
    "out_blob = next(iter(net.outputs))\n",
    "n, c, h, w = net.input_info[input_blob].input_data.shape\n",
    "net.reshape({input_blob: (n, c, 200, 512)})"
   ]
  },
  {
   "cell_type": "code",
   "execution_count": 113,
   "id": "a47c8fd0",
   "metadata": {},
   "outputs": [],
   "source": [
    "exec_net = ie.load_network(network=net, device_name='CPU')\n",
    "res = exec_net.infer(inputs={input_blob: image})"
   ]
  },
  {
   "cell_type": "code",
   "execution_count": 114,
   "id": "e4558fc9",
   "metadata": {},
   "outputs": [],
   "source": [
    "t = (res[out_blob][0])"
   ]
  },
  {
   "cell_type": "code",
   "execution_count": 116,
   "id": "bfa682d6",
   "metadata": {},
   "outputs": [
    {
     "data": {
      "text/plain": [
       "array([[[ 0.       ,  0.       ,  0.       , ...,  0.       ,\n",
       "          0.       ,  0.       ],\n",
       "        [ 0.       ,  0.       ,  0.       , ...,  0.       ,\n",
       "          0.       ,  0.       ],\n",
       "        [ 0.       ,  0.       ,  0.       , ...,  0.       ,\n",
       "          0.       ,  0.       ],\n",
       "        ...,\n",
       "        [ 0.       ,  0.       ,  0.       , ...,  0.       ,\n",
       "          0.       ,  0.       ],\n",
       "        [ 0.       ,  0.       ,  0.       , ...,  0.       ,\n",
       "          0.       ,  0.       ],\n",
       "        [ 0.       ,  0.       ,  0.       , ...,  0.       ,\n",
       "          0.       ,  0.       ]],\n",
       "\n",
       "       [[ 0.       ,  0.       ,  0.       , ...,  0.       ,\n",
       "          0.       ,  0.       ],\n",
       "        [ 0.       ,  0.       ,  0.       , ...,  0.       ,\n",
       "          0.       ,  0.       ],\n",
       "        [ 0.       ,  0.       ,  0.       , ...,  0.       ,\n",
       "          0.       ,  0.       ],\n",
       "        ...,\n",
       "        [ 0.       ,  3.8551624,  0.       , ...,  0.       ,\n",
       "          0.       ,  0.       ],\n",
       "        [ 0.       , 19.34482  , 27.83654  , ..., 22.029198 ,\n",
       "          2.4775033,  0.       ],\n",
       "        [ 0.       , 13.1329155, 12.924953 , ..., 34.33647  ,\n",
       "         25.00771  ,  0.       ]],\n",
       "\n",
       "       [[ 0.       ,  0.       ,  0.       , ...,  0.       ,\n",
       "          0.       ,  0.       ],\n",
       "        [ 0.       ,  0.       ,  0.       , ...,  0.       ,\n",
       "          0.       ,  0.       ],\n",
       "        [ 0.       ,  0.       ,  0.       , ...,  0.       ,\n",
       "          0.       ,  0.       ],\n",
       "        ...,\n",
       "        [ 0.       ,  0.       ,  0.       , ...,  0.       ,\n",
       "          0.       ,  0.       ],\n",
       "        [ 0.       ,  0.       ,  0.       , ...,  0.       ,\n",
       "          0.       ,  0.       ],\n",
       "        [ 0.       ,  0.       ,  0.       , ...,  0.       ,\n",
       "          0.       ,  0.       ]],\n",
       "\n",
       "       ...,\n",
       "\n",
       "       [[ 0.       ,  0.       ,  0.       , ...,  0.       ,\n",
       "          0.       ,  0.       ],\n",
       "        [ 0.       ,  0.       ,  0.       , ...,  0.       ,\n",
       "          0.       ,  0.       ],\n",
       "        [ 0.       ,  0.       ,  0.       , ...,  0.       ,\n",
       "          0.       ,  0.       ],\n",
       "        ...,\n",
       "        [ 0.       ,  0.       ,  0.       , ...,  0.       ,\n",
       "          0.       ,  0.       ],\n",
       "        [ 0.       ,  0.       ,  0.       , ...,  0.       ,\n",
       "          0.       ,  0.       ],\n",
       "        [ 0.       ,  0.       ,  0.       , ...,  0.       ,\n",
       "          0.       ,  0.       ]],\n",
       "\n",
       "       [[ 0.       ,  0.       ,  0.       , ...,  0.       ,\n",
       "          0.       ,  0.       ],\n",
       "        [ 0.       ,  0.       ,  0.       , ...,  0.       ,\n",
       "          0.       ,  0.       ],\n",
       "        [ 0.       ,  0.       ,  0.       , ...,  0.       ,\n",
       "          0.       ,  0.       ],\n",
       "        ...,\n",
       "        [ 0.       ,  0.       ,  0.       , ...,  0.       ,\n",
       "          0.       ,  0.       ],\n",
       "        [ 0.       ,  0.       ,  0.       , ...,  0.       ,\n",
       "          0.       ,  0.       ],\n",
       "        [ 0.       ,  0.       ,  0.       , ...,  0.       ,\n",
       "          0.       ,  0.       ]],\n",
       "\n",
       "       [[ 0.       ,  0.       ,  0.       , ...,  0.       ,\n",
       "          0.       ,  0.       ],\n",
       "        [ 0.       ,  0.       ,  0.       , ...,  0.       ,\n",
       "          0.       ,  0.       ],\n",
       "        [ 0.       ,  0.       ,  0.       , ...,  0.       ,\n",
       "          0.       ,  0.       ],\n",
       "        ...,\n",
       "        [ 0.       ,  0.       ,  0.       , ...,  0.       ,\n",
       "          0.       ,  0.       ],\n",
       "        [ 0.       ,  0.       ,  0.       , ...,  0.       ,\n",
       "          0.       ,  0.       ],\n",
       "        [ 0.       ,  0.       ,  0.       , ...,  0.       ,\n",
       "          0.       ,  0.       ]]], dtype=float32)"
      ]
     },
     "execution_count": 116,
     "metadata": {},
     "output_type": "execute_result"
    }
   ],
   "source": [
    "t"
   ]
  },
  {
   "cell_type": "code",
   "execution_count": null,
   "id": "afe7327c",
   "metadata": {},
   "outputs": [],
   "source": []
  },
  {
   "cell_type": "markdown",
   "id": "86539775",
   "metadata": {},
   "source": [
    "# Reshape *2"
   ]
  },
  {
   "cell_type": "code",
   "execution_count": 9,
   "id": "1c2db8e3",
   "metadata": {},
   "outputs": [],
   "source": [
    "net_reshape = ie.read_network(model=MODEL_PATH + 'vgg16.xml')\n",
    "net_reshape.reshape({input_blob: (n, c, h*2, w*2)})"
   ]
  },
  {
   "cell_type": "code",
   "execution_count": 11,
   "id": "ac4265b0",
   "metadata": {},
   "outputs": [
    {
     "name": "stdout",
     "output_type": "stream",
     "text": [
      "1 3 448 448\n"
     ]
    },
    {
     "name": "stderr",
     "output_type": "stream",
     "text": [
      "/tmp/ipykernel_1361362/4231422558.py:1: DeprecationWarning: 'inputs' property of IENetwork class is deprecated. To access DataPtrs user need to use 'input_data' property of InputInfoPtr objects which can be accessed by 'input_info' property.\n",
      "  input_blob = next(iter(net_reshape.inputs))\n"
     ]
    }
   ],
   "source": [
    "input_blob = next(iter(net_reshape.inputs))\n",
    "out_blob = next(iter(net_reshape.outputs))\n",
    "n, c, h, w = net_reshape.input_info[input_blob].input_data.shape\n",
    "print(n, c, h, w)"
   ]
  },
  {
   "cell_type": "code",
   "execution_count": 15,
   "id": "bbb9220a",
   "metadata": {},
   "outputs": [],
   "source": [
    "image2 = cv2.imread('dog.jpg')\n",
    "image2 = cv2.resize(image2, (448, 448))\n",
    "image2 = image2.transpose((2, 0, 1))\n",
    "\n",
    "\n",
    "exec_net = ie.load_network(network=net_reshape, device_name='CPU')\n",
    "res = exec_net.infer(inputs={input_blob: image2})"
   ]
  },
  {
   "cell_type": "markdown",
   "id": "e913c4c4",
   "metadata": {},
   "source": [
    "# Reshape /2"
   ]
  },
  {
   "cell_type": "code",
   "execution_count": 68,
   "id": "308b2505",
   "metadata": {},
   "outputs": [
    {
     "name": "stdout",
     "output_type": "stream",
     "text": [
      "672 672\n"
     ]
    }
   ],
   "source": [
    "h, w = 224, 224\n",
    "scale = 3\n",
    "\n",
    "print(h * scale, w * scale)"
   ]
  },
  {
   "cell_type": "code",
   "execution_count": 69,
   "id": "1ee27ba5",
   "metadata": {},
   "outputs": [],
   "source": [
    "net_reshape = ie.read_network(model=MODEL_PATH + 'vgg16.xml')\n",
    "net_reshape.reshape({input_blob: (n, c, int(h*scale), int(w*scale))})"
   ]
  },
  {
   "cell_type": "code",
   "execution_count": 70,
   "id": "2ca3f751",
   "metadata": {},
   "outputs": [
    {
     "name": "stdout",
     "output_type": "stream",
     "text": [
      "1 3 672 672\n"
     ]
    },
    {
     "name": "stderr",
     "output_type": "stream",
     "text": [
      "/tmp/ipykernel_1361362/4231422558.py:1: DeprecationWarning: 'inputs' property of IENetwork class is deprecated. To access DataPtrs user need to use 'input_data' property of InputInfoPtr objects which can be accessed by 'input_info' property.\n",
      "  input_blob = next(iter(net_reshape.inputs))\n"
     ]
    }
   ],
   "source": [
    "input_blob = next(iter(net_reshape.inputs))\n",
    "out_blob = next(iter(net_reshape.outputs))\n",
    "n, c, h, w = net_reshape.input_info[input_blob].input_data.shape\n",
    "print(n, c, h, w)"
   ]
  },
  {
   "cell_type": "code",
   "execution_count": 71,
   "id": "212d5803",
   "metadata": {},
   "outputs": [],
   "source": [
    "net_reshape.reshape({input_blob: (n, c, int(h/3), int(w/3))})"
   ]
  },
  {
   "cell_type": "code",
   "execution_count": 72,
   "id": "f44ac67f",
   "metadata": {},
   "outputs": [
    {
     "name": "stdout",
     "output_type": "stream",
     "text": [
      "1 3 224 224\n"
     ]
    },
    {
     "name": "stderr",
     "output_type": "stream",
     "text": [
      "/tmp/ipykernel_1361362/4231422558.py:1: DeprecationWarning: 'inputs' property of IENetwork class is deprecated. To access DataPtrs user need to use 'input_data' property of InputInfoPtr objects which can be accessed by 'input_info' property.\n",
      "  input_blob = next(iter(net_reshape.inputs))\n"
     ]
    }
   ],
   "source": [
    "input_blob = next(iter(net_reshape.inputs))\n",
    "out_blob = next(iter(net_reshape.outputs))\n",
    "n, c, h, w = net_reshape.input_info[input_blob].input_data.shape\n",
    "print(n, c, h, w)"
   ]
  },
  {
   "cell_type": "code",
   "execution_count": 76,
   "id": "2cb3b752",
   "metadata": {},
   "outputs": [],
   "source": [
    "image3 = cv2.imread('dog.jpg')\n",
    "w_, h_, c_ = image3.shape"
   ]
  },
  {
   "cell_type": "code",
   "execution_count": 77,
   "id": "608e1973",
   "metadata": {},
   "outputs": [
    {
     "data": {
      "text/plain": [
       "(512, 512)"
      ]
     },
     "execution_count": 77,
     "metadata": {},
     "output_type": "execute_result"
    }
   ],
   "source": [
    "w_, h_"
   ]
  },
  {
   "cell_type": "code",
   "execution_count": 78,
   "id": "23b00220",
   "metadata": {},
   "outputs": [
    {
     "ename": "RuntimeError",
     "evalue": "Check 'input_product.get_length() % output_product.get_length() == 0' failed at core/src/op/reshape.cpp:331:\nWhile validating node 'v1::Reshape fc6/flatten_fc_input (pool5[0]:f32{1,512,16,16}, fc6/flatten_fc_input/value[0]:i64{2}) -> (f32{?,?})' with friendly_name 'fc6/flatten_fc_input':\nNon-'-1' output dimensions do not evenly divide the input dimensions\n",
     "output_type": "error",
     "traceback": [
      "\u001b[0;31m---------------------------------------------------------------------------\u001b[0m",
      "\u001b[0;31mRuntimeError\u001b[0m                              Traceback (most recent call last)",
      "\u001b[0;32m/tmp/ipykernel_1361362/1406138528.py\u001b[0m in \u001b[0;36m<module>\u001b[0;34m\u001b[0m\n\u001b[1;32m      1\u001b[0m \u001b[0mnet_reshape\u001b[0m \u001b[0;34m=\u001b[0m \u001b[0mie\u001b[0m\u001b[0;34m.\u001b[0m\u001b[0mread_network\u001b[0m\u001b[0;34m(\u001b[0m\u001b[0mmodel\u001b[0m\u001b[0;34m=\u001b[0m\u001b[0mMODEL_PATH\u001b[0m \u001b[0;34m+\u001b[0m \u001b[0;34m'vgg16.xml'\u001b[0m\u001b[0;34m)\u001b[0m\u001b[0;34m\u001b[0m\u001b[0;34m\u001b[0m\u001b[0m\n\u001b[0;32m----> 2\u001b[0;31m \u001b[0mnet_reshape\u001b[0m\u001b[0;34m.\u001b[0m\u001b[0mreshape\u001b[0m\u001b[0;34m(\u001b[0m\u001b[0;34m{\u001b[0m\u001b[0minput_blob\u001b[0m\u001b[0;34m:\u001b[0m \u001b[0;34m(\u001b[0m\u001b[0mn\u001b[0m\u001b[0;34m,\u001b[0m \u001b[0mc\u001b[0m\u001b[0;34m,\u001b[0m \u001b[0mw_\u001b[0m\u001b[0;34m,\u001b[0m \u001b[0mh_\u001b[0m\u001b[0;34m)\u001b[0m\u001b[0;34m}\u001b[0m\u001b[0;34m)\u001b[0m\u001b[0;34m\u001b[0m\u001b[0;34m\u001b[0m\u001b[0m\n\u001b[0m",
      "\u001b[0;32mie_api.pyx\u001b[0m in \u001b[0;36mopenvino.inference_engine.ie_api.IENetwork.reshape\u001b[0;34m()\u001b[0m\n",
      "\u001b[0;31mRuntimeError\u001b[0m: Check 'input_product.get_length() % output_product.get_length() == 0' failed at core/src/op/reshape.cpp:331:\nWhile validating node 'v1::Reshape fc6/flatten_fc_input (pool5[0]:f32{1,512,16,16}, fc6/flatten_fc_input/value[0]:i64{2}) -> (f32{?,?})' with friendly_name 'fc6/flatten_fc_input':\nNon-'-1' output dimensions do not evenly divide the input dimensions\n"
     ]
    }
   ],
   "source": [
    "net_reshape = ie.read_network(model=MODEL_PATH + 'vgg16.xml')\n",
    "net_reshape.reshape({input_blob: (n, c, w_, h_)})"
   ]
  },
  {
   "cell_type": "code",
   "execution_count": null,
   "id": "c830280f",
   "metadata": {},
   "outputs": [],
   "source": []
  }
 ],
 "metadata": {
  "kernelspec": {
   "display_name": "Python 3 (ipykernel)",
   "language": "python",
   "name": "python3"
  },
  "language_info": {
   "codemirror_mode": {
    "name": "ipython",
    "version": 3
   },
   "file_extension": ".py",
   "mimetype": "text/x-python",
   "name": "python",
   "nbconvert_exporter": "python",
   "pygments_lexer": "ipython3",
   "version": "3.8.10"
  }
 },
 "nbformat": 4,
 "nbformat_minor": 5
}
